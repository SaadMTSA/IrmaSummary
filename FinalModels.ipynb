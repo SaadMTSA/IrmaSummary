{
 "cells": [
  {
   "cell_type": "markdown",
   "metadata": {},
   "source": [
    "# This Notebook Outlines the Models used in our Irma Tweets Research\n",
    "Although we have tried multiple models and approaches in each area, in this notebook, we are only showing the best performing ones."
   ]
  },
  {
   "cell_type": "markdown",
   "metadata": {},
   "source": [
    "## User Model - GradientBoosting"
   ]
  },
  {
   "cell_type": "code",
   "execution_count": 1,
   "metadata": {},
   "outputs": [
    {
     "name": "stderr",
     "output_type": "stream",
     "text": [
      "/home/saed/.local/lib/python3.8/site-packages/pandas/compat/__init__.py:117: UserWarning: Could not import the lzma module. Your installed Python is incomplete. Attempting to use lzma compression will result in a RuntimeError.\n",
      "  warnings.warn(msg)\n"
     ]
    }
   ],
   "source": [
    "import pandas as pd"
   ]
  },
  {
   "cell_type": "code",
   "execution_count": 2,
   "metadata": {},
   "outputs": [],
   "source": [
    "users = pd.read_csv(\"twitterUsers.csv.zip\", index_col=\"screen_name\")\n",
    "users = users[['followers_count', 'friends_count', 'statuses_count', 'verified']]"
   ]
  },
  {
   "cell_type": "markdown",
   "metadata": {},
   "source": [
    "Balancing users dataframe between classes"
   ]
  },
  {
   "cell_type": "code",
   "execution_count": 3,
   "metadata": {},
   "outputs": [
    {
     "data": {
      "text/html": [
       "<div>\n",
       "<style scoped>\n",
       "    .dataframe tbody tr th:only-of-type {\n",
       "        vertical-align: middle;\n",
       "    }\n",
       "\n",
       "    .dataframe tbody tr th {\n",
       "        vertical-align: top;\n",
       "    }\n",
       "\n",
       "    .dataframe thead th {\n",
       "        text-align: right;\n",
       "    }\n",
       "</style>\n",
       "<table border=\"1\" class=\"dataframe\">\n",
       "  <thead>\n",
       "    <tr style=\"text-align: right;\">\n",
       "      <th></th>\n",
       "      <th>followers_count</th>\n",
       "      <th>friends_count</th>\n",
       "      <th>statuses_count</th>\n",
       "      <th>verified</th>\n",
       "    </tr>\n",
       "    <tr>\n",
       "      <th>screen_name</th>\n",
       "      <th></th>\n",
       "      <th></th>\n",
       "      <th></th>\n",
       "      <th></th>\n",
       "    </tr>\n",
       "  </thead>\n",
       "  <tbody>\n",
       "    <tr>\n",
       "      <th>PabloAcostaTuc</th>\n",
       "      <td>1090</td>\n",
       "      <td>216</td>\n",
       "      <td>2371</td>\n",
       "      <td>0</td>\n",
       "    </tr>\n",
       "    <tr>\n",
       "      <th>joeflech</th>\n",
       "      <td>3658</td>\n",
       "      <td>1224</td>\n",
       "      <td>11410</td>\n",
       "      <td>1</td>\n",
       "    </tr>\n",
       "    <tr>\n",
       "      <th>DLasAmericas</th>\n",
       "      <td>112154</td>\n",
       "      <td>12510</td>\n",
       "      <td>407453</td>\n",
       "      <td>1</td>\n",
       "    </tr>\n",
       "    <tr>\n",
       "      <th>wimmer_pa</th>\n",
       "      <td>248</td>\n",
       "      <td>84</td>\n",
       "      <td>1292</td>\n",
       "      <td>0</td>\n",
       "    </tr>\n",
       "    <tr>\n",
       "      <th>rebeccavallas</th>\n",
       "      <td>6292</td>\n",
       "      <td>1736</td>\n",
       "      <td>16352</td>\n",
       "      <td>1</td>\n",
       "    </tr>\n",
       "  </tbody>\n",
       "</table>\n",
       "</div>"
      ],
      "text/plain": [
       "                followers_count  friends_count  statuses_count  verified\n",
       "screen_name                                                             \n",
       "PabloAcostaTuc             1090            216            2371         0\n",
       "joeflech                   3658           1224           11410         1\n",
       "DLasAmericas             112154          12510          407453         1\n",
       "wimmer_pa                   248             84            1292         0\n",
       "rebeccavallas              6292           1736           16352         1"
      ]
     },
     "execution_count": 3,
     "metadata": {},
     "output_type": "execute_result"
    }
   ],
   "source": [
    "from numpy.random import binomial\n",
    "\n",
    "sampling_ratio = (\n",
    "    users.verified.value_counts()[1] * 1.0 / users.verified.value_counts()[0]\n",
    ")\n",
    "to_keep = []\n",
    "for i in users.itertuples():\n",
    "    if i[4] == 1:\n",
    "        to_keep.append(True)\n",
    "    else:\n",
    "        to_keep.append(binomial(1, sampling_ratio) == 1)\n",
    "users = users[to_keep]\n",
    "users.head()"
   ]
  },
  {
   "cell_type": "code",
   "execution_count": 4,
   "metadata": {},
   "outputs": [],
   "source": [
    "from sklearn.model_selection import train_test_split\n",
    "x = users.iloc[:, :-1]\n",
    "y = users.iloc[:, -1]\n",
    "x_tr, x_te, y_tr, y_te = train_test_split(x, y, test_size=0.3)"
   ]
  },
  {
   "cell_type": "markdown",
   "metadata": {},
   "source": [
    "The model originally went through hyperparameters optimization, feature engineering, feature selection, and cross-validation on the `x_tr, y_tr` set. After proven to be better Random Forest, Logistic Regression, and other models, we are training it on the `x_tr, y_tr` set and testing it on the `x_te, y_te` set."
   ]
  },
  {
   "cell_type": "code",
   "execution_count": 5,
   "metadata": {},
   "outputs": [
    {
     "name": "stdout",
     "output_type": "stream",
     "text": [
      "Cross-Validation ROC-AUC-Score:  [0.96410981 0.97718383 0.96059684 0.96780385 0.93872229 0.97282291\n",
      " 0.94812975 0.95517972 0.97289795 0.97019505]\n",
      "\n",
      "Test-Set Evaluation:\n",
      "F1-Score: 0.9137440758293839\n",
      "Precision-Score: 0.909433962264151\n",
      "Recall-Score: 0.9180952380952381\n",
      "ROC-AUC-Score: 0.9683239283239284\n"
     ]
    }
   ],
   "source": [
    "from sklearn.ensemble import GradientBoostingClassifier\n",
    "from sklearn.model_selection import cross_validate\n",
    "from sklearn.metrics import f1_score, precision_score, recall_score, roc_auc_score\n",
    "\n",
    "gb = GradientBoostingClassifier(n_estimators=50)\n",
    "cv_results = cross_validate(gb, x_tr, y_tr, scoring=[\"roc_auc\"], cv=10)\n",
    "print(\"Cross-Validation ROC-AUC-Score: \", cv_results[\"test_roc_auc\"])\n",
    "gb.fit(x_tr, y_tr)\n",
    "y_pred = gb.predict(x_te)\n",
    "y_pred_proba = gb.predict_proba(x_te)\n",
    "\n",
    "print(\"\")\n",
    "print(\"Test-Set Evaluation:\")\n",
    "print(\"F1-Score:\", f1_score(y_te, y_pred))\n",
    "print(\"Precision-Score:\", precision_score(y_te, y_pred))\n",
    "print(\"Recall-Score:\", recall_score(y_te, y_pred))\n",
    "print(\"ROC-AUC-Score:\", roc_auc_score(y_te, y_pred_proba[:, 1]))"
   ]
  },
  {
   "cell_type": "markdown",
   "metadata": {},
   "source": [
    "## GeoSpatial Model\n",
    "This was not a machine learning model, but a mathematical model that was selected from a set of 27 mathematical models. It was based on calculating the distance from the hurricane at the publish time of the tweet along with getting weather data at that location during that moment."
   ]
  },
  {
   "cell_type": "code",
   "execution_count": null,
   "metadata": {},
   "outputs": [],
   "source": []
  },
  {
   "cell_type": "markdown",
   "metadata": {},
   "source": [
    "## Images Model - InceptionV3 Tuned\n",
    "- For binary-classification (level-1), we used inception v3 from google's tensorflow; [here](https://github.com/tensorflow/tpu/blob/master/models/experimental/inception/inception_v3.py).\n",
    "- For multi-label classification (level-2), we used a modified version of inception v3 for multi-label; [here](https://github.com/BartyzalRadek/Multi-label-Inception-net)\n",
    "- Our images can be provided upon request, but are not uploaded to the repo due to size limits."
   ]
  }
 ],
 "metadata": {
  "kernelspec": {
   "display_name": "Python 3",
   "language": "python",
   "name": "python3"
  },
  "language_info": {
   "codemirror_mode": {
    "name": "ipython",
    "version": 3
   },
   "file_extension": ".py",
   "mimetype": "text/x-python",
   "name": "python",
   "nbconvert_exporter": "python",
   "pygments_lexer": "ipython3",
   "version": "3.8.0"
  }
 },
 "nbformat": 4,
 "nbformat_minor": 2
}
