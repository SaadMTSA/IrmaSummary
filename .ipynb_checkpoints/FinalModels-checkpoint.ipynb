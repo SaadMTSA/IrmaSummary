{
 "cells": [
  {
   "cell_type": "markdown",
   "metadata": {},
   "source": [
    "# This Notebook Outlines the Models used in our Irma Tweets Research\n",
    "Although we have tried multiple models and approaches in each area, in this notebook, we are only showing the best performing ones."
   ]
  },
  {
   "cell_type": "markdown",
   "metadata": {},
   "source": [
    "## User Model - GradientBoosting"
   ]
  },
  {
   "cell_type": "code",
   "execution_count": 2,
   "metadata": {},
   "outputs": [],
   "source": [
    "import pandas as pd"
   ]
  },
  {
   "cell_type": "code",
   "execution_count": 8,
   "metadata": {},
   "outputs": [
    {
     "data": {
      "text/html": [
       "<div>\n",
       "<style scoped>\n",
       "    .dataframe tbody tr th:only-of-type {\n",
       "        vertical-align: middle;\n",
       "    }\n",
       "\n",
       "    .dataframe tbody tr th {\n",
       "        vertical-align: top;\n",
       "    }\n",
       "\n",
       "    .dataframe thead th {\n",
       "        text-align: right;\n",
       "    }\n",
       "</style>\n",
       "<table border=\"1\" class=\"dataframe\">\n",
       "  <thead>\n",
       "    <tr style=\"text-align: right;\">\n",
       "      <th></th>\n",
       "      <th>followers_count</th>\n",
       "      <th>friends_count</th>\n",
       "      <th>statuses_count</th>\n",
       "      <th>verified</th>\n",
       "    </tr>\n",
       "    <tr>\n",
       "      <th>screen_name</th>\n",
       "      <th></th>\n",
       "      <th></th>\n",
       "      <th></th>\n",
       "      <th></th>\n",
       "    </tr>\n",
       "  </thead>\n",
       "  <tbody>\n",
       "    <tr>\n",
       "      <th>Lysette_P</th>\n",
       "      <td>420</td>\n",
       "      <td>401</td>\n",
       "      <td>4787</td>\n",
       "      <td>0</td>\n",
       "    </tr>\n",
       "    <tr>\n",
       "      <th>Gboarders</th>\n",
       "      <td>386</td>\n",
       "      <td>1021</td>\n",
       "      <td>5804</td>\n",
       "      <td>0</td>\n",
       "    </tr>\n",
       "    <tr>\n",
       "      <th>PabloAcostaTuc</th>\n",
       "      <td>1090</td>\n",
       "      <td>216</td>\n",
       "      <td>2371</td>\n",
       "      <td>0</td>\n",
       "    </tr>\n",
       "    <tr>\n",
       "      <th>patigalafassi</th>\n",
       "      <td>169</td>\n",
       "      <td>170</td>\n",
       "      <td>5386</td>\n",
       "      <td>0</td>\n",
       "    </tr>\n",
       "    <tr>\n",
       "      <th>tricky_dickie87</th>\n",
       "      <td>320</td>\n",
       "      <td>1344</td>\n",
       "      <td>663</td>\n",
       "      <td>0</td>\n",
       "    </tr>\n",
       "  </tbody>\n",
       "</table>\n",
       "</div>"
      ],
      "text/plain": [
       "                 followers_count  friends_count  statuses_count  verified\n",
       "screen_name                                                              \n",
       "Lysette_P                    420            401            4787         0\n",
       "Gboarders                    386           1021            5804         0\n",
       "PabloAcostaTuc              1090            216            2371         0\n",
       "patigalafassi                169            170            5386         0\n",
       "tricky_dickie87              320           1344             663         0"
      ]
     },
     "execution_count": 8,
     "metadata": {},
     "output_type": "execute_result"
    }
   ],
   "source": [
    "users = pd.read_csv(\"twitterUsers.csv.zip\", index_col=\"screen_name\")\n",
    "users = users[['followers_count', 'friends_count', 'statuses_count', 'verified']]\n",
    "users.head()"
   ]
  },
  {
   "cell_type": "markdown",
   "metadata": {},
   "source": [
    "Balancing users dataframe between classes"
   ]
  },
  {
   "cell_type": "code",
   "execution_count": 9,
   "metadata": {},
   "outputs": [
    {
     "data": {
      "text/html": [
       "<div>\n",
       "<style scoped>\n",
       "    .dataframe tbody tr th:only-of-type {\n",
       "        vertical-align: middle;\n",
       "    }\n",
       "\n",
       "    .dataframe tbody tr th {\n",
       "        vertical-align: top;\n",
       "    }\n",
       "\n",
       "    .dataframe thead th {\n",
       "        text-align: right;\n",
       "    }\n",
       "</style>\n",
       "<table border=\"1\" class=\"dataframe\">\n",
       "  <thead>\n",
       "    <tr style=\"text-align: right;\">\n",
       "      <th></th>\n",
       "      <th>followers_count</th>\n",
       "      <th>friends_count</th>\n",
       "      <th>statuses_count</th>\n",
       "      <th>verified</th>\n",
       "    </tr>\n",
       "    <tr>\n",
       "      <th>screen_name</th>\n",
       "      <th></th>\n",
       "      <th></th>\n",
       "      <th></th>\n",
       "      <th></th>\n",
       "    </tr>\n",
       "  </thead>\n",
       "  <tbody>\n",
       "    <tr>\n",
       "      <th>joeflech</th>\n",
       "      <td>3658</td>\n",
       "      <td>1224</td>\n",
       "      <td>11410</td>\n",
       "      <td>1</td>\n",
       "    </tr>\n",
       "    <tr>\n",
       "      <th>DLasAmericas</th>\n",
       "      <td>112154</td>\n",
       "      <td>12510</td>\n",
       "      <td>407453</td>\n",
       "      <td>1</td>\n",
       "    </tr>\n",
       "    <tr>\n",
       "      <th>rebeccavallas</th>\n",
       "      <td>6292</td>\n",
       "      <td>1736</td>\n",
       "      <td>16352</td>\n",
       "      <td>1</td>\n",
       "    </tr>\n",
       "    <tr>\n",
       "      <th>JRichardsonx</th>\n",
       "      <td>715</td>\n",
       "      <td>717</td>\n",
       "      <td>7001</td>\n",
       "      <td>0</td>\n",
       "    </tr>\n",
       "    <tr>\n",
       "      <th>PHRESHER_DGYGZ</th>\n",
       "      <td>4397</td>\n",
       "      <td>102</td>\n",
       "      <td>10708</td>\n",
       "      <td>1</td>\n",
       "    </tr>\n",
       "  </tbody>\n",
       "</table>\n",
       "</div>"
      ],
      "text/plain": [
       "                followers_count  friends_count  statuses_count  verified\n",
       "screen_name                                                             \n",
       "joeflech                   3658           1224           11410         1\n",
       "DLasAmericas             112154          12510          407453         1\n",
       "rebeccavallas              6292           1736           16352         1\n",
       "JRichardsonx                715            717            7001         0\n",
       "PHRESHER_DGYGZ             4397            102           10708         1"
      ]
     },
     "execution_count": 9,
     "metadata": {},
     "output_type": "execute_result"
    }
   ],
   "source": [
    "from numpy.random import binomial\n",
    "\n",
    "sampling_ratio = (\n",
    "    users.verified.value_counts()[1] * 1.0 / users.verified.value_counts()[0]\n",
    ")\n",
    "to_keep = []\n",
    "for i in users.itertuples():\n",
    "    if i[4] == 1:\n",
    "        to_keep.append(True)\n",
    "    else:\n",
    "        to_keep.append(binomial(1, sampling_ratio) == 1)\n",
    "users = users[to_keep]\n",
    "users.head()"
   ]
  },
  {
   "cell_type": "code",
   "execution_count": 11,
   "metadata": {},
   "outputs": [],
   "source": [
    "from sklearn.model_selection import train_test_split\n",
    "x = users.iloc[:, :-1]\n",
    "y = users.iloc[:, -1]\n",
    "x_tr, x_te, y_tr, y_te = train_test_split(x, y, test_size=0.3)"
   ]
  },
  {
   "cell_type": "markdown",
   "metadata": {},
   "source": [
    "The model originally went through hyperparameters optimization and cross-validation on the `x_tr, y_tr` set. After proven to be better Random Forest, Logistic Regression, and other models, we are training it on the `x_tr, y_tr` set and testing it on the `x_te, y_te` set."
   ]
  },
  {
   "cell_type": "code",
   "execution_count": 30,
   "metadata": {},
   "outputs": [
    {
     "name": "stdout",
     "output_type": "stream",
     "text": [
      "Cross-Validation ROC-AUC-Score:  [0.96312816 0.94394886 0.98197294 0.97498513 0.97610021 0.96914957\n",
      " 0.96703092 0.95905205 0.9640768  0.97967602]\n",
      "\n",
      "Test-Set Evaluation:\n",
      "F1-Score: 0.9189704480457579\n",
      "Precision-Score: 0.8975791433891993\n",
      "Recall-Score: 0.94140625\n",
      "ROC-AUC-Score: 0.9636296452702703\n"
     ]
    }
   ],
   "source": [
    "from sklearn.ensemble import GradientBoostingClassifier\n",
    "from sklearn.model_selection import cross_validate\n",
    "from sklearn.metrics import f1_score, precision_score, recall_score, roc_auc_score\n",
    "\n",
    "gb = GradientBoostingClassifier(n_estimators=50)\n",
    "cv_results = cross_validate(gb, x_tr, y_tr, scoring=[\"roc_auc\"], cv=10)\n",
    "print(\"Cross-Validation ROC-AUC-Score: \", cv_results[\"test_roc_auc\"])\n",
    "gb.fit(x_tr, y_tr)\n",
    "y_pred = gb.predict(x_te)\n",
    "y_pred_proba = gb.predict_proba(x_te)\n",
    "\n",
    "print(\"\")\n",
    "print(\"Test-Set Evaluation:\")\n",
    "print(\"F1-Score:\", f1_score(y_te, y_pred))\n",
    "print(\"Precision-Score:\", precision_score(y_te, y_pred))\n",
    "print(\"Recall-Score:\", recall_score(y_te, y_pred))\n",
    "print(\"ROC-AUC-Score:\", roc_auc_score(y_te, y_pred_proba[:, 1]))"
   ]
  },
  {
   "cell_type": "markdown",
   "metadata": {},
   "source": [
    "## GeoSpatial Model"
   ]
  },
  {
   "cell_type": "code",
   "execution_count": null,
   "metadata": {},
   "outputs": [],
   "source": []
  },
  {
   "cell_type": "markdown",
   "metadata": {},
   "source": [
    "## Images Model - InceptionV3 Tuned"
   ]
  },
  {
   "cell_type": "code",
   "execution_count": null,
   "metadata": {},
   "outputs": [],
   "source": []
  }
 ],
 "metadata": {
  "kernelspec": {
   "display_name": "Python 3",
   "language": "python",
   "name": "python3"
  },
  "language_info": {
   "codemirror_mode": {
    "name": "ipython",
    "version": 3
   },
   "file_extension": ".py",
   "mimetype": "text/x-python",
   "name": "python",
   "nbconvert_exporter": "python",
   "pygments_lexer": "ipython3",
   "version": "3.8.0"
  }
 },
 "nbformat": 4,
 "nbformat_minor": 2
}
